{
 "cells": [
  {
   "cell_type": "markdown",
   "metadata": {
    "id": "w7Yv9kYonkHI"
   },
   "source": [
    "\n",
    "# Web Scraping for the Market Capitalization\n",
    "```\n",
    "\n",
    "```\n",
    "\n",
    "### Importing modules \n"
   ]
  },
  {
   "cell_type": "code",
   "execution_count": 1,
   "metadata": {
    "id": "mcQzAnHrV09E"
   },
   "outputs": [],
   "source": [
    "import re\n",
    "import parse\n",
    "import pdfplumber\n",
    "import pandas as pd\n",
    "from collections import namedtuple\n",
    "import matplotlib.pyplot as plt\n",
    "import seaborn as sns\n",
    "from PyPDF2 import PdfFileWriter, PdfFileReader\n",
    "import textwrap\n",
    "import os\n",
    "import selenium\n",
    "from selenium import webdriver\n",
    "import time\n",
    "from urllib.request import unquote\n",
    "from selenium.webdriver.common.keys import Keys\n",
    "import urllib.request\n",
    "from pdf2image import convert_from_path\n",
    "from pdf2image import convert_from_path\n",
    "import pymongo\n",
    "import base64\n",
    "import bson\n",
    "from bson.binary import Binary\n",
    "import gridfs\n",
    "from sklearn.metrics import (confusion_matrix, precision_recall_curve, auc, roc_curve, recall_score, \n",
    "                             classification_report, f1_score, accuracy_score, average_precision_score, precision_recall_fscore_support)\n",
    "import mlxtend\n",
    "import os\n",
    "from selenium.webdriver.chrome.options import Options\n",
    "chop = Options()"
   ]
  },
  {
   "cell_type": "markdown",
   "metadata": {},
   "source": [
    "### Web Scrapping "
   ]
  },
  {
   "cell_type": "code",
   "execution_count": 2,
   "metadata": {},
   "outputs": [],
   "source": [
    "def collect_links():\n",
    "    options = Options()\n",
    "    options.add_argument(\"start-maximized\")\n",
    "    driver=webdriver.Chrome(chrome_options=options,executable_path=r\"C:\\Users\\HP\\Desktop\\Data Science\\Projet\\chromedriver.exe\")\n",
    "    driver.set_page_load_timeout(3000)\n",
    "    driver.get(\"http://www.maxulabourse.com.tn/fiche-valeur/TN0002300358\")\n",
    "    time.sleep(5)\n",
    "    lst = list()\n",
    "    select_box = driver.find_element_by_xpath('/html/body/div[2]/div[3]/div/div/div/div[1]/div[2]/select') \n",
    "    options = [x for x in select_box.find_elements_by_tag_name('option')]\n",
    "    for element in options:\n",
    "        lst.append({\"nom\" : element.text,\"lien\":\"http://www.maxulabourse.com.tn/fiche-valeur/\"+element.get_attribute(\"value\"),\"CB\":\"\"})\n",
    "    driver.quit()\n",
    "    return lst"
   ]
  },
  {
   "cell_type": "code",
   "execution_count": 16,
   "metadata": {},
   "outputs": [
    {
     "name": "stderr",
     "output_type": "stream",
     "text": [
      "<ipython-input-15-50541c50e1d5>:4: DeprecationWarning: use options instead of chrome_options\n",
      "  driver=webdriver.Chrome(chrome_options=options,executable_path=r\"C:\\Users\\HP\\Desktop\\Data Science\\Projet\\chromedriver.exe\")\n"
     ]
    }
   ],
   "source": [
    "links=collect_links()"
   ]
  },
  {
   "cell_type": "code",
   "execution_count": 25,
   "metadata": {},
   "outputs": [],
   "source": [
    "colonnes = namedtuple('ligne', 'Entreprise CapBoursiere')"
   ]
  },
  {
   "cell_type": "code",
   "execution_count": 34,
   "metadata": {},
   "outputs": [
    {
     "name": "stderr",
     "output_type": "stream",
     "text": [
      "<ipython-input-34-4d02661b3d28>:4: DeprecationWarning: use options instead of chrome_options\n",
      "  driver=webdriver.Chrome(chrome_options=options,executable_path=r\"C:\\Users\\HP\\Desktop\\Data Science\\Projet\\chromedriver.exe\")\n"
     ]
    },
    {
     "name": "stdout",
     "output_type": "stream",
     "text": [
      "Message: element not interactable\n",
      "  (Session info: chrome=89.0.4389.128)\n",
      "\n",
      "Message: element not interactable\n",
      "  (Session info: chrome=89.0.4389.128)\n",
      "\n",
      "Message: element not interactable\n",
      "  (Session info: chrome=89.0.4389.128)\n",
      "\n"
     ]
    }
   ],
   "source": [
    "l=[]\n",
    "options = Options()\n",
    "options.add_argument(\"start-maximized\")\n",
    "driver=webdriver.Chrome(chrome_options=options,executable_path=r\"C:\\Users\\HP\\Desktop\\Data Science\\Projet\\chromedriver.exe\")\n",
    "driver.set_page_load_timeout(3000)\n",
    "for elem in links :\n",
    "    driver.get(elem[\"lien\"])\n",
    "    try:\n",
    "        driver.find_element_by_xpath('/html/body/div[2]/div[3]/div/div/div/div[5]/div/div[1]/div/ul/li[2]/a').click()\n",
    "        time.sleep(1)\n",
    "        d = driver.find_element_by_xpath('//*[@id=\"profile-1\"]/div/table/tbody/tr[3]/td[2]')\n",
    "        elem[\"CB\"]=d.text\n",
    "        l.append(colonnes(elem[\"nom\"],d.text))\n",
    "    except Exception as e:\n",
    "        print(e)"
   ]
  },
  {
   "cell_type": "code",
   "execution_count": 35,
   "metadata": {
    "scrolled": true
   },
   "outputs": [
    {
     "data": {
      "text/html": [
       "<div>\n",
       "<style scoped>\n",
       "    .dataframe tbody tr th:only-of-type {\n",
       "        vertical-align: middle;\n",
       "    }\n",
       "\n",
       "    .dataframe tbody tr th {\n",
       "        vertical-align: top;\n",
       "    }\n",
       "\n",
       "    .dataframe thead th {\n",
       "        text-align: right;\n",
       "    }\n",
       "</style>\n",
       "<table border=\"1\" class=\"dataframe\">\n",
       "  <thead>\n",
       "    <tr style=\"text-align: right;\">\n",
       "      <th></th>\n",
       "      <th>Entreprise</th>\n",
       "      <th>CapBoursiere</th>\n",
       "    </tr>\n",
       "  </thead>\n",
       "  <tbody>\n",
       "    <tr>\n",
       "      <th>0</th>\n",
       "      <td>ADWYA</td>\n",
       "      <td>100 320 480</td>\n",
       "    </tr>\n",
       "    <tr>\n",
       "      <th>1</th>\n",
       "      <td>AETECH</td>\n",
       "      <td>1 000 500</td>\n",
       "    </tr>\n",
       "    <tr>\n",
       "      <th>2</th>\n",
       "      <td>AIR LIQUDE TSIE</td>\n",
       "      <td>168 662 912</td>\n",
       "    </tr>\n",
       "    <tr>\n",
       "      <th>3</th>\n",
       "      <td>ALKIMIA</td>\n",
       "      <td>88 872 626</td>\n",
       "    </tr>\n",
       "    <tr>\n",
       "      <th>4</th>\n",
       "      <td>AMEN BANK</td>\n",
       "      <td>632 895 900</td>\n",
       "    </tr>\n",
       "    <tr>\n",
       "      <th>...</th>\n",
       "      <td>...</td>\n",
       "      <td>...</td>\n",
       "    </tr>\n",
       "    <tr>\n",
       "      <th>71</th>\n",
       "      <td>UADH</td>\n",
       "      <td>27 345 846</td>\n",
       "    </tr>\n",
       "    <tr>\n",
       "      <th>72</th>\n",
       "      <td>UBCI</td>\n",
       "      <td>469 635 900</td>\n",
       "    </tr>\n",
       "    <tr>\n",
       "      <th>73</th>\n",
       "      <td>UIB</td>\n",
       "      <td>533 658 400</td>\n",
       "    </tr>\n",
       "    <tr>\n",
       "      <th>74</th>\n",
       "      <td>UNIMED</td>\n",
       "      <td>247 040 000</td>\n",
       "    </tr>\n",
       "    <tr>\n",
       "      <th>75</th>\n",
       "      <td>WIFACK INT BANK</td>\n",
       "      <td>204 000 000</td>\n",
       "    </tr>\n",
       "  </tbody>\n",
       "</table>\n",
       "<p>76 rows × 2 columns</p>\n",
       "</div>"
      ],
      "text/plain": [
       "         Entreprise CapBoursiere\n",
       "0             ADWYA  100 320 480\n",
       "1            AETECH    1 000 500\n",
       "2   AIR LIQUDE TSIE  168 662 912\n",
       "3           ALKIMIA   88 872 626\n",
       "4         AMEN BANK  632 895 900\n",
       "..              ...          ...\n",
       "71             UADH   27 345 846\n",
       "72             UBCI  469 635 900\n",
       "73              UIB  533 658 400\n",
       "74           UNIMED  247 040 000\n",
       "75  WIFACK INT BANK  204 000 000\n",
       "\n",
       "[76 rows x 2 columns]"
      ]
     },
     "execution_count": 35,
     "metadata": {},
     "output_type": "execute_result"
    }
   ],
   "source": [
    "CapBoursiere= pd.DataFrame(l)\n",
    "CapBoursiere"
   ]
  },
  {
   "cell_type": "code",
   "execution_count": 37,
   "metadata": {},
   "outputs": [],
   "source": [
    "CapBoursiere.to_csv('CapBoursiere.csv',index=False)\n"
   ]
  },
  {
   "cell_type": "code",
   "execution_count": null,
   "metadata": {},
   "outputs": [],
   "source": []
  }
 ],
 "metadata": {
  "kernelspec": {
   "display_name": "Python 3",
   "language": "python",
   "name": "python3"
  },
  "language_info": {
   "codemirror_mode": {
    "name": "ipython",
    "version": 3
   },
   "file_extension": ".py",
   "mimetype": "text/x-python",
   "name": "python",
   "nbconvert_exporter": "python",
   "pygments_lexer": "ipython3",
   "version": "3.8.3"
  }
 },
 "nbformat": 4,
 "nbformat_minor": 4
}
